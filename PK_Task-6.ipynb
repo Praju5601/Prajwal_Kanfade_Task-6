{
 "cells": [
  {
   "cell_type": "code",
   "execution_count": 9,
   "id": "97dae3cf-5051-48a2-9085-78d28ae46447",
   "metadata": {},
   "outputs": [
    {
     "name": "stdout",
     "output_type": "stream",
     "text": [
      "{'user_id': 3, 'user_name': 'user12', 'user_age': 23, 'age_category': 'teenage'}\n"
     ]
    }
   ],
   "source": [
    "def user_data(user_id , user_name , user_age):\n",
    "     if user_age > 40:\n",
    "         age_category = \"Elder\"\n",
    "     elif user_age > 25:\n",
    "         age_category = \"adult\"\n",
    "     elif user_age >18:\n",
    "         age_category=\"teenage\"    \n",
    "     else:\n",
    "         age_category = \"kids\"\n",
    "\n",
    "     return {\"user_id\" : user_id , \"user_name\" : user_name , \"user_age\" : user_age , \"age_category\" : age_category }\n",
    "\n",
    "\n",
    "print(user_data(3, \"user12\" , 23))"
   ]
  },
  {
   "cell_type": "code",
   "execution_count": 3,
   "id": "ea3f295c-8f47-4222-b508-2bf8429640d5",
   "metadata": {},
   "outputs": [
    {
     "name": "stdout",
     "output_type": "stream",
     "text": [
      "{'userId': 1, 'name': 'user1', 'age': 24, 'age_category': 'adult'}\n",
      "{'userId': 2, 'name': 'user2', 'age': 26, 'age_category': 'man'}\n",
      "{'userId': 3, 'name': 'user3', 'age': 20, 'age_category': 'old'}\n",
      "{'userId': 3, 'name': 'user3', 'age': -22, 'age_category': 'teenager'}\n"
     ]
    }
   ],
   "source": [
    "def user(userId,name, age,category):\n",
    "    if age > 25:\n",
    "        category =\"Elder\"\n",
    "    elif age > 20:\n",
    "        category  =\"adult\"\n",
    "    elif age > 19:\n",
    "        category  =\"old\"   \n",
    "    else:\n",
    "        category = \"teenager\"\n",
    "    return {'userId': userId, 'name': name, 'age': age, 'age_category': category}\n",
    "\n",
    "print(user(1,'user1',36,'a'))\n",
    "\n",
    "print(user(2,'user2',16,'b')) \n",
    "\n",
    "print(user(3,'user3',20,'c')) \n",
    "\n",
    "print(user(3,'user3',-22,'c')) "
   ]
  },
  {
   "cell_type": "code",
   "execution_count": null,
   "id": "ce583888-62af-4138-9261-3ed13710f506",
   "metadata": {},
   "outputs": [],
   "source": []
  }
 ],
 "metadata": {
  "kernelspec": {
   "display_name": "Python 3 (ipykernel)",
   "language": "python",
   "name": "python3"
  },
  "language_info": {
   "codemirror_mode": {
    "name": "ipython",
    "version": 3
   },
   "file_extension": ".py",
   "mimetype": "text/x-python",
   "name": "python",
   "nbconvert_exporter": "python",
   "pygments_lexer": "ipython3",
   "version": "3.12.4"
  }
 },
 "nbformat": 4,
 "nbformat_minor": 5
}
